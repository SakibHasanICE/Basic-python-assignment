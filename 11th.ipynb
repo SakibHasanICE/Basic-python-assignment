{
 "cells": [
  {
   "cell_type": "code",
   "execution_count": 1,
   "id": "06d0117c",
   "metadata": {},
   "outputs": [
    {
     "name": "stdout",
     "output_type": "stream",
     "text": [
      "Fibonacci Series (using for loop): [0, 1, 1, 2, 3, 5, 8, 13, 21, 34, 55, 89, 144, 233, 377]\n"
     ]
    }
   ],
   "source": [
    "n = 15\n",
    "fibonacci = [0, 1]\n",
    "\n",
    "for i in range(2, n):\n",
    "    fibonacci.append(fibonacci[i - 1] + fibonacci[i - 2])\n",
    "\n",
    "print(\"Fibonacci Series (using for loop):\", fibonacci)\n"
   ]
  },
  {
   "cell_type": "code",
   "execution_count": 2,
   "id": "68de393e",
   "metadata": {},
   "outputs": [
    {
     "name": "stdout",
     "output_type": "stream",
     "text": [
      "Fibonacci Series (using while loop): [0, 1, 1, 2, 3, 5, 8, 13, 21, 34, 55, 89, 144, 233, 377]\n"
     ]
    }
   ],
   "source": [
    "n = 15\n",
    "fibonacci = [0, 1]\n",
    "count = 2\n",
    "\n",
    "while count < n:\n",
    "    next_num = fibonacci[count - 1] + fibonacci[count - 2]\n",
    "    fibonacci.append(next_num)\n",
    "    count += 1\n",
    "\n",
    "print(\"Fibonacci Series (using while loop):\", fibonacci)\n"
   ]
  }
 ],
 "metadata": {
  "kernelspec": {
   "display_name": "Python 3 (ipykernel)",
   "language": "python",
   "name": "python3"
  },
  "language_info": {
   "codemirror_mode": {
    "name": "ipython",
    "version": 3
   },
   "file_extension": ".py",
   "mimetype": "text/x-python",
   "name": "python",
   "nbconvert_exporter": "python",
   "pygments_lexer": "ipython3",
   "version": "3.10.9"
  }
 },
 "nbformat": 4,
 "nbformat_minor": 5
}
