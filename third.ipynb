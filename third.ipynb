{
 "cells": [
  {
   "cell_type": "code",
   "execution_count": 3,
   "id": "f8496de6",
   "metadata": {},
   "outputs": [
    {
     "name": "stdout",
     "output_type": "stream",
     "text": [
      "Enter attendance percentage: 76\n"
     ]
    }
   ],
   "source": [
    "attendance=float(input('Enter attendance percentage: '))"
   ]
  },
  {
   "cell_type": "code",
   "execution_count": 7,
   "id": "02cb5a7c",
   "metadata": {},
   "outputs": [
    {
     "name": "stdout",
     "output_type": "stream",
     "text": [
      "he/she is allowed\n"
     ]
    }
   ],
   "source": [
    "if attendance<75:\n",
    "    print('she/he is not allowed')\n",
    "else:\n",
    "    print('he/she is allowed')"
   ]
  },
  {
   "cell_type": "code",
   "execution_count": null,
   "id": "87533e86",
   "metadata": {},
   "outputs": [],
   "source": []
  }
 ],
 "metadata": {
  "kernelspec": {
   "display_name": "Python 3 (ipykernel)",
   "language": "python",
   "name": "python3"
  },
  "language_info": {
   "codemirror_mode": {
    "name": "ipython",
    "version": 3
   },
   "file_extension": ".py",
   "mimetype": "text/x-python",
   "name": "python",
   "nbconvert_exporter": "python",
   "pygments_lexer": "ipython3",
   "version": "3.10.9"
  }
 },
 "nbformat": 4,
 "nbformat_minor": 5
}
