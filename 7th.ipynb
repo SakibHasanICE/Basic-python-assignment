{
 "cells": [
  {
   "cell_type": "code",
   "execution_count": 3,
   "id": "bcaabe86",
   "metadata": {},
   "outputs": [
    {
     "name": "stdout",
     "output_type": "stream",
     "text": [
      "Sum of prime numbers: 76110\n"
     ]
    }
   ],
   "source": [
    "lower = 10\n",
    "upper = 1000\n",
    "sum_primes = 0\n",
    "\n",
    "for num in range(lower, upper + 1):\n",
    "    if num > 1:\n",
    "        for i in range(2, num):\n",
    "            if (num % i) == 0:\n",
    "                break\n",
    "        else:\n",
    "            sum_primes += num\n",
    "\n",
    "print(\"Sum of prime numbers:\", sum_primes)"
   ]
  }
 ],
 "metadata": {
  "kernelspec": {
   "display_name": "Python 3 (ipykernel)",
   "language": "python",
   "name": "python3"
  },
  "language_info": {
   "codemirror_mode": {
    "name": "ipython",
    "version": 3
   },
   "file_extension": ".py",
   "mimetype": "text/x-python",
   "name": "python",
   "nbconvert_exporter": "python",
   "pygments_lexer": "ipython3",
   "version": "3.10.9"
  }
 },
 "nbformat": 4,
 "nbformat_minor": 5
}
