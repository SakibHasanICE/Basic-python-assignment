{
 "cells": [
  {
   "cell_type": "code",
   "execution_count": 8,
   "id": "dc085b53",
   "metadata": {},
   "outputs": [
    {
     "name": "stdout",
     "output_type": "stream",
     "text": [
      "Enter the length of rectangle  5\n"
     ]
    }
   ],
   "source": [
    "length=float(input('Enter the length of rectangle  '))"
   ]
  },
  {
   "cell_type": "code",
   "execution_count": 9,
   "id": "6235fd42",
   "metadata": {},
   "outputs": [
    {
     "name": "stdout",
     "output_type": "stream",
     "text": [
      "Enter the breadth of rectangle  5\n"
     ]
    }
   ],
   "source": [
    "breadth=float(input('Enter the breadth of rectangle  '))"
   ]
  },
  {
   "cell_type": "code",
   "execution_count": 10,
   "id": "2428ed7b",
   "metadata": {},
   "outputs": [
    {
     "name": "stdout",
     "output_type": "stream",
     "text": [
      "it is square\n"
     ]
    }
   ],
   "source": [
    "if length==breadth:\n",
    "    print('it is square')\n",
    "else:\n",
    "    print(\"It is not a square.\")"
   ]
  },
  {
   "cell_type": "code",
   "execution_count": null,
   "id": "2d5b39d5",
   "metadata": {},
   "outputs": [],
   "source": []
  }
 ],
 "metadata": {
  "kernelspec": {
   "display_name": "Python 3 (ipykernel)",
   "language": "python",
   "name": "python3"
  },
  "language_info": {
   "codemirror_mode": {
    "name": "ipython",
    "version": 3
   },
   "file_extension": ".py",
   "mimetype": "text/x-python",
   "name": "python",
   "nbconvert_exporter": "python",
   "pygments_lexer": "ipython3",
   "version": "3.10.9"
  }
 },
 "nbformat": 4,
 "nbformat_minor": 5
}
